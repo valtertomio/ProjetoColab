{
  "nbformat": 4,
  "nbformat_minor": 0,
  "metadata": {
    "colab": {
      "provenance": [],
      "authorship_tag": "ABX9TyMWBi4nxu+xFveWrPU49Pgi",
      "include_colab_link": true
    },
    "kernelspec": {
      "name": "python3",
      "display_name": "Python 3"
    },
    "language_info": {
      "name": "python"
    }
  },
  "cells": [
    {
      "cell_type": "markdown",
      "metadata": {
        "id": "view-in-github",
        "colab_type": "text"
      },
      "source": [
        "<a href=\"https://colab.research.google.com/github/valtertomio/ProjetoColab/blob/main/Untitled1.ipynb\" target=\"_parent\"><img src=\"https://colab.research.google.com/assets/colab-badge.svg\" alt=\"Open In Colab\"/></a>"
      ]
    },
    {
      "cell_type": "markdown",
      "source": [],
      "metadata": {
        "id": "qz84-WuU6EGo"
      }
    },
    {
      "cell_type": "code",
      "execution_count": 1,
      "metadata": {
        "id": "M8_DGNhU510S"
      },
      "outputs": [],
      "source": [
        "!pip install -q -U google-generativeai"
      ]
    },
    {
      "cell_type": "markdown",
      "source": [
        "Instalando sdk do google"
      ],
      "metadata": {
        "id": "neing2bH58ay"
      }
    },
    {
      "cell_type": "code",
      "source": [
        "# Import the Python SDK\n",
        "import google.generativeai as genai\n",
        "# Used to securely store your API key\n",
        "from google.colab import userdata\n",
        "\n",
        "GOOGLE_API_KEY=''\n",
        "genai.configure(api_key=GOOGLE_API_KEY)"
      ],
      "metadata": {
        "id": "HHRGTPRY6BV4"
      },
      "execution_count": 3,
      "outputs": []
    },
    {
      "cell_type": "markdown",
      "source": [
        "listar os modelos disponiveis"
      ],
      "metadata": {
        "id": "w-1I1XP47rW0"
      }
    },
    {
      "cell_type": "code",
      "source": [
        "for m in genai.list_models():\n",
        "  if 'generateContent' in m.supported_generation_methods:\n",
        "    print(m.name)"
      ],
      "metadata": {
        "colab": {
          "base_uri": "https://localhost:8080/",
          "height": 146
        },
        "id": "ABZYqdA26Qf7",
        "outputId": "1fc5aeee-4c09-4c25-ebf0-883ce20d2d3d"
      },
      "execution_count": 6,
      "outputs": [
        {
          "output_type": "stream",
          "name": "stdout",
          "text": [
            "models/gemini-1.0-pro\n",
            "models/gemini-1.0-pro-001\n",
            "models/gemini-1.0-pro-latest\n",
            "models/gemini-1.0-pro-vision-latest\n",
            "models/gemini-1.5-pro-latest\n",
            "models/gemini-pro\n",
            "models/gemini-pro-vision\n"
          ]
        }
      ]
    },
    {
      "cell_type": "code",
      "source": [
        "generation_config = { \"candidate_count\": 1,\n",
        "                     \"temperature\": 0.5,\n",
        "                      }"
      ],
      "metadata": {
        "id": "UM9bSHCY-S7J"
      },
      "execution_count": 8,
      "outputs": []
    },
    {
      "cell_type": "code",
      "source": [
        "safety_settings ={\n",
        "    \"HARASSMENT\": \"BLOCK_NONE\",\n",
        "    \"HATE\": \"BLOCK_NONE\",\n",
        "    \"SEXUAL\": \"BLOCK_NONE\",\n",
        "    \"DANGEROUS\":  \"BLOCK_NONE\",\n",
        "}"
      ],
      "metadata": {
        "id": "7g3S94v_ErRa"
      },
      "execution_count": 15,
      "outputs": []
    },
    {
      "cell_type": "markdown",
      "source": [
        "inicializand o modelo"
      ],
      "metadata": {
        "id": "7XurxpJVDCTv"
      }
    },
    {
      "cell_type": "code",
      "source": [
        "model = genai.GenerativeModel(model_name=\"gemini-1.0-pro\",\n",
        "                              generation_config=generation_config,\n",
        "                              safety_settings=safety_settings\n",
        ")"
      ],
      "metadata": {
        "id": "LvaR1s7nDB9e"
      },
      "execution_count": 17,
      "outputs": []
    },
    {
      "cell_type": "code",
      "source": [
        "response = model.generate_content(\"Vamos aprender conteúdo sobre IA. Me dê sugestões.\")\n",
        "print(response.text)"
      ],
      "metadata": {
        "colab": {
          "base_uri": "https://localhost:8080/",
          "height": 663
        },
        "id": "CHsSIvBxFml3",
        "outputId": "0f787985-056e-41a1-8b30-5cd1b0b6eb95"
      },
      "execution_count": 18,
      "outputs": [
        {
          "output_type": "stream",
          "name": "stdout",
          "text": [
            "**Conceitos Fundamentais:**\n",
            "\n",
            "* Definição e tipos de Inteligência Artificial (IA)\n",
            "* Aprendizado de Máquina (ML) e Aprendizado Profundo (DL)\n",
            "* Redes Neurais e Processamento de Linguagem Natural (PNL)\n",
            "* Algoritmos de Otimização e Busca\n",
            "\n",
            "**Aplicações da IA:**\n",
            "\n",
            "* Visão Computacional e Reconhecimento de Imagens\n",
            "* Processamento de Linguagem Natural e Chatbots\n",
            "* Diagnóstico Médico e Análise Preditiva\n",
            "* Automação de Processos e Robótica\n",
            "* Financeiro e Previsão de Mercado\n",
            "\n",
            "**Ética e Implicações Sociais da IA:**\n",
            "\n",
            "* Preconceito e Discriminação em Algoritmos\n",
            "* Perda de Empregos e Automação\n",
            "* Privacidade e Segurança de Dados\n",
            "* Responsabilidade e Regulamentação da IA\n",
            "\n",
            "**Recursos de Aprendizagem:**\n",
            "\n",
            "* **Cursos Online:** Coursera, edX, Udacity\n",
            "* **Livros:** \"Inteligência Artificial: Uma Abordagem Moderna\" (Stuart Russell e Peter Norvig), \"Aprendizado de Máquina\" (Tom Mitchell)\n",
            "* **Vídeos:** Canal do YouTube \"3Blue1Brown\", \"Khan Academy\"\n",
            "* **Comunidades Online:** Stack Overflow, Reddit (r/MachineLearning, r/ArtificialIntelligence)\n",
            "\n",
            "**Tendências e Avanços Futuros:**\n",
            "\n",
            "* IA Generativa (por exemplo, ChatGPT, DALL-E)\n",
            "* Aprendizado por Reforço\n",
            "* IA Quântica\n",
            "* Integração de IA em Dispositivos e Serviços\n"
          ]
        }
      ]
    },
    {
      "cell_type": "code",
      "source": [
        "chat = model.start_chat(history=[])"
      ],
      "metadata": {
        "id": "7K_OMBfgF4z3"
      },
      "execution_count": 19,
      "outputs": []
    },
    {
      "cell_type": "code",
      "source": [
        "prompt = input(\"esperando prompt:\")\n",
        "while prompt != \"fim\":\n",
        "  response = chat.send_message(prompt)\n",
        "  print(\"Resposta: \",response.text, \"\\n\")\n",
        "  prompt = input (\"Esperando prompt: \")"
      ],
      "metadata": {
        "colab": {
          "base_uri": "https://localhost:8080/",
          "height": 405
        },
        "id": "1K_421LzGXRJ",
        "outputId": "b268bf67-c5a5-4946-ba18-9502b4c19e07"
      },
      "execution_count": 20,
      "outputs": [
        {
          "name": "stdout",
          "output_type": "stream",
          "text": [
            "esperando prompt:qual a caiptal do japao\n",
            "Resposta:  Tóquio \n",
            "\n",
            "Esperando prompt: qual a comida favorita\n",
            "Resposta:  Não tenho uma comida favorita, pois não sou uma pessoa. \n",
            "\n",
            "Esperando prompt: qual a comida tipica de la\n",
            "Resposta:  **Comidas típicas do Japão:**\n",
            "\n",
            "* **Sushi:** Arroz avinagrado com peixe cru, frutos do mar ou vegetais.\n",
            "* **Sashimi:** Peixe cru ou frutos do mar servidos sem arroz.\n",
            "* **Ramen:** Macarrão de trigo em caldo à base de carne de porco, shoyu (molho de soja) ou missô (pasta de soja).\n",
            "* **Udon:** Macarrão de trigo grosso servido em caldo quente ou frio.\n",
            "* **Soba:** Macarrão de trigo sarraceno servido em caldo quente ou frio.\n",
            "* **Tempura:** Frutos do mar ou vegetais fritos em massa leve.\n",
            "* **Tonkatsu:** Costeleta de porco frita à milanesa.\n",
            "* **Yakitori:** Espetos de frango grelhados.\n",
            "* **Oden:** Ensopado de vários ingredientes, como daikon (nabo japonês), konjac (gelatina vegetal) e ovos cozidos.\n",
            "* **Onigiri:** Bolinhos de arroz recheados com vários ingredientes, como atum, salmão ou umeboshi (ameixa em conserva). \n",
            "\n",
            "Esperando prompt: fim\n"
          ]
        }
      ]
    }
  ]
}
