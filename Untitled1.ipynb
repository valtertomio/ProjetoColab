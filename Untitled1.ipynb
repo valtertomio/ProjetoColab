{
  "nbformat": 4,
  "nbformat_minor": 0,
  "metadata": {
    "colab": {
      "provenance": [],
      "authorship_tag": "ABX9TyNVFnLD1l3HbpgcCNVsEW6h",
      "include_colab_link": true
    },
    "kernelspec": {
      "name": "python3",
      "display_name": "Python 3"
    },
    "language_info": {
      "name": "python"
    }
  },
  "cells": [
    {
      "cell_type": "markdown",
      "metadata": {
        "id": "view-in-github",
        "colab_type": "text"
      },
      "source": [
        "<a href=\"https://colab.research.google.com/github/valtertomio/ProjetoColab/blob/main/Untitled1.ipynb\" target=\"_parent\"><img src=\"https://colab.research.google.com/assets/colab-badge.svg\" alt=\"Open In Colab\"/></a>"
      ]
    },
    {
      "cell_type": "markdown",
      "source": [],
      "metadata": {
        "id": "qz84-WuU6EGo"
      }
    },
    {
      "cell_type": "code",
      "execution_count": 1,
      "metadata": {
        "id": "M8_DGNhU510S"
      },
      "outputs": [],
      "source": [
        "!pip install -q -U google-generativeai"
      ]
    },
    {
      "cell_type": "markdown",
      "source": [
        "Instalando sdk do google"
      ],
      "metadata": {
        "id": "neing2bH58ay"
      }
    },
    {
      "cell_type": "code",
      "source": [
        "# Import the Python SDK\n",
        "import google.generativeai as genai\n",
        "# Used to securely store your API key\n",
        "from google.colab import userdata\n",
        "api_key = userdata.get('SECRET_KEY')\n",
        "genai.configure(api_key=api_key)\n"
      ],
      "metadata": {
        "id": "HHRGTPRY6BV4"
      },
      "execution_count": 25,
      "outputs": []
    },
    {
      "cell_type": "markdown",
      "source": [
        "listar os modelos disponiveis"
      ],
      "metadata": {
        "id": "w-1I1XP47rW0"
      }
    },
    {
      "cell_type": "code",
      "source": [
        "for m in genai.list_models():\n",
        "  if 'generateContent' in m.supported_generation_methods:\n",
        "    print(m.name)"
      ],
      "metadata": {
        "colab": {
          "base_uri": "https://localhost:8080/",
          "height": 146
        },
        "id": "ABZYqdA26Qf7",
        "outputId": "05b1e22f-23cc-4f93-8d2a-611b3765ac95"
      },
      "execution_count": 26,
      "outputs": [
        {
          "output_type": "stream",
          "name": "stdout",
          "text": [
            "models/gemini-1.0-pro\n",
            "models/gemini-1.0-pro-001\n",
            "models/gemini-1.0-pro-latest\n",
            "models/gemini-1.0-pro-vision-latest\n",
            "models/gemini-1.5-pro-latest\n",
            "models/gemini-pro\n",
            "models/gemini-pro-vision\n"
          ]
        }
      ]
    },
    {
      "cell_type": "code",
      "source": [
        "generation_config = { \"candidate_count\": 1,\n",
        "                     \"temperature\": 0.5,\n",
        "                      }"
      ],
      "metadata": {
        "id": "UM9bSHCY-S7J"
      },
      "execution_count": 27,
      "outputs": []
    },
    {
      "cell_type": "code",
      "source": [
        "safety_settings ={\n",
        "    \"HARASSMENT\": \"BLOCK_NONE\",\n",
        "    \"HATE\": \"BLOCK_NONE\",\n",
        "    \"SEXUAL\": \"BLOCK_NONE\",\n",
        "    \"DANGEROUS\":  \"BLOCK_NONE\",\n",
        "}"
      ],
      "metadata": {
        "id": "7g3S94v_ErRa"
      },
      "execution_count": 28,
      "outputs": []
    },
    {
      "cell_type": "markdown",
      "source": [
        "inicializand o modelo"
      ],
      "metadata": {
        "id": "7XurxpJVDCTv"
      }
    },
    {
      "cell_type": "code",
      "source": [
        "model = genai.GenerativeModel(model_name=\"gemini-1.0-pro\",\n",
        "                              generation_config=generation_config,\n",
        "                              safety_settings=safety_settings\n",
        ")"
      ],
      "metadata": {
        "id": "LvaR1s7nDB9e"
      },
      "execution_count": 29,
      "outputs": []
    },
    {
      "cell_type": "code",
      "source": [
        "response = model.generate_content(\"Vamos aprender conteúdo sobre IA. Me dê sugestões.\")\n",
        "print(response.text)"
      ],
      "metadata": {
        "colab": {
          "base_uri": "https://localhost:8080/",
          "height": 700
        },
        "id": "CHsSIvBxFml3",
        "outputId": "9133331a-c32a-4e9f-f87b-180ca700d5df"
      },
      "execution_count": 30,
      "outputs": [
        {
          "output_type": "stream",
          "name": "stdout",
          "text": [
            "**Conceitos Fundamentais**\n",
            "\n",
            "* Definição e história da Inteligência Artificial (IA)\n",
            "* Tipos de IA: IA Fraca, IA Forte, IA Geral\n",
            "* Aprendizado de Máquina (ML): Aprendizado Supervisionado, Não Supervisionado e por Reforço\n",
            "* Processamento de Linguagem Natural (PNL)\n",
            "* Visão Computacional\n",
            "\n",
            "**Técnicas e Algoritmos**\n",
            "\n",
            "* Redes Neurais: Redes Neurais Convolucionais (CNNs), Redes Neurais Recorrentes (RNNs)\n",
            "* Árvore de Decisão e Floresta Aleatória\n",
            "* Máquinas de Vetores de Suporte (SVMs)\n",
            "* Algoritmos Genéticos\n",
            "\n",
            "**Aplicações da IA**\n",
            "\n",
            "* Saúde: Diagnóstico médico, desenvolvimento de medicamentos\n",
            "* Finanças: Detecção de fraudes, previsão de mercado\n",
            "* Transporte: Veículos autônomos, otimização de rotas\n",
            "* Varejo: Recomendações personalizadas, análise de sentimento\n",
            "* Educação: Personalização de aprendizagem, avaliação automatizada\n",
            "\n",
            "**Ética e Implicações Sociais da IA**\n",
            "\n",
            "* Viés e discriminação em algoritmos de IA\n",
            "* Impacto no emprego e na economia\n",
            "* Privacidade e segurança de dados\n",
            "* Regulamentação e governança da IA\n",
            "\n",
            "**Recursos de Aprendizagem**\n",
            "\n",
            "* **Cursos online:** Coursera, edX, Udemy\n",
            "* **Livros:** \"Inteligência Artificial: Uma Abordagem Moderna\", \"Aprendizado Profundo\"\n",
            "* **Artigos e pesquisas:** Google Scholar, arXiv\n",
            "* **Comunidades online:** Stack Overflow, Reddit\n",
            "* **Conferências e workshops:** NeurIPS, ICML, CVPR\n"
          ]
        }
      ]
    },
    {
      "cell_type": "code",
      "source": [
        "chat = model.start_chat(history=[])"
      ],
      "metadata": {
        "id": "7K_OMBfgF4z3"
      },
      "execution_count": 19,
      "outputs": []
    },
    {
      "cell_type": "code",
      "source": [
        "prompt = input(\"esperando prompt:\")\n",
        "while prompt != \"fim\":\n",
        "  response = chat.send_message(prompt)\n",
        "  print(\"Resposta: \",response.text, \"\\n\")\n",
        "  prompt = input (\"Esperando prompt: \")"
      ],
      "metadata": {
        "colab": {
          "base_uri": "https://localhost:8080/",
          "height": 405
        },
        "id": "1K_421LzGXRJ",
        "outputId": "b268bf67-c5a5-4946-ba18-9502b4c19e07"
      },
      "execution_count": 20,
      "outputs": [
        {
          "name": "stdout",
          "output_type": "stream",
          "text": [
            "esperando prompt:qual a caiptal do japao\n",
            "Resposta:  Tóquio \n",
            "\n",
            "Esperando prompt: qual a comida favorita\n",
            "Resposta:  Não tenho uma comida favorita, pois não sou uma pessoa. \n",
            "\n",
            "Esperando prompt: qual a comida tipica de la\n",
            "Resposta:  **Comidas típicas do Japão:**\n",
            "\n",
            "* **Sushi:** Arroz avinagrado com peixe cru, frutos do mar ou vegetais.\n",
            "* **Sashimi:** Peixe cru ou frutos do mar servidos sem arroz.\n",
            "* **Ramen:** Macarrão de trigo em caldo à base de carne de porco, shoyu (molho de soja) ou missô (pasta de soja).\n",
            "* **Udon:** Macarrão de trigo grosso servido em caldo quente ou frio.\n",
            "* **Soba:** Macarrão de trigo sarraceno servido em caldo quente ou frio.\n",
            "* **Tempura:** Frutos do mar ou vegetais fritos em massa leve.\n",
            "* **Tonkatsu:** Costeleta de porco frita à milanesa.\n",
            "* **Yakitori:** Espetos de frango grelhados.\n",
            "* **Oden:** Ensopado de vários ingredientes, como daikon (nabo japonês), konjac (gelatina vegetal) e ovos cozidos.\n",
            "* **Onigiri:** Bolinhos de arroz recheados com vários ingredientes, como atum, salmão ou umeboshi (ameixa em conserva). \n",
            "\n",
            "Esperando prompt: fim\n"
          ]
        }
      ]
    }
  ]
}